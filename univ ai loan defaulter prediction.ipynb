{
 "cells": [
  {
   "cell_type": "code",
   "execution_count": 1,
   "id": "bebbc7d6",
   "metadata": {},
   "outputs": [],
   "source": [
    "import pandas as pd\n",
    "import warnings\n",
    "warnings.filterwarnings(\"ignore\")"
   ]
  },
  {
   "cell_type": "markdown",
   "id": "b1090e1d",
   "metadata": {},
   "source": [
    "## it was satcking logistic random forest and xg boost together"
   ]
  },
  {
   "cell_type": "code",
   "execution_count": 2,
   "id": "b17c8ba6",
   "metadata": {},
   "outputs": [],
   "source": [
    "train=pd.read_csv(\"univ ai training.csv\")"
   ]
  },
  {
   "cell_type": "code",
   "execution_count": 3,
   "id": "db7479fd",
   "metadata": {},
   "outputs": [],
   "source": [
    "train1=train.drop('risk_flag',axis=1)"
   ]
  },
  {
   "cell_type": "code",
   "execution_count": 4,
   "id": "8136be6d",
   "metadata": {},
   "outputs": [
    {
     "data": {
      "text/html": [
       "<div>\n",
       "<style scoped>\n",
       "    .dataframe tbody tr th:only-of-type {\n",
       "        vertical-align: middle;\n",
       "    }\n",
       "\n",
       "    .dataframe tbody tr th {\n",
       "        vertical-align: top;\n",
       "    }\n",
       "\n",
       "    .dataframe thead th {\n",
       "        text-align: right;\n",
       "    }\n",
       "</style>\n",
       "<table border=\"1\" class=\"dataframe\">\n",
       "  <thead>\n",
       "    <tr style=\"text-align: right;\">\n",
       "      <th></th>\n",
       "      <th>Id</th>\n",
       "      <th>income</th>\n",
       "      <th>age</th>\n",
       "      <th>experience</th>\n",
       "      <th>married</th>\n",
       "      <th>house_ownership</th>\n",
       "      <th>car_ownership</th>\n",
       "      <th>profession</th>\n",
       "      <th>city</th>\n",
       "      <th>state</th>\n",
       "      <th>current_job_years</th>\n",
       "      <th>current_house_years</th>\n",
       "    </tr>\n",
       "  </thead>\n",
       "  <tbody>\n",
       "    <tr>\n",
       "      <th>0</th>\n",
       "      <td>1</td>\n",
       "      <td>1303835</td>\n",
       "      <td>23</td>\n",
       "      <td>3</td>\n",
       "      <td>single</td>\n",
       "      <td>rented</td>\n",
       "      <td>no</td>\n",
       "      <td>Mechanical_engineer</td>\n",
       "      <td>Rewa</td>\n",
       "      <td>Madhya_Pradesh</td>\n",
       "      <td>3</td>\n",
       "      <td>13</td>\n",
       "    </tr>\n",
       "    <tr>\n",
       "      <th>1</th>\n",
       "      <td>2</td>\n",
       "      <td>7574516</td>\n",
       "      <td>40</td>\n",
       "      <td>10</td>\n",
       "      <td>single</td>\n",
       "      <td>rented</td>\n",
       "      <td>no</td>\n",
       "      <td>Software_Developer</td>\n",
       "      <td>Parbhani</td>\n",
       "      <td>Maharashtra</td>\n",
       "      <td>9</td>\n",
       "      <td>13</td>\n",
       "    </tr>\n",
       "    <tr>\n",
       "      <th>2</th>\n",
       "      <td>3</td>\n",
       "      <td>3991815</td>\n",
       "      <td>66</td>\n",
       "      <td>4</td>\n",
       "      <td>married</td>\n",
       "      <td>rented</td>\n",
       "      <td>no</td>\n",
       "      <td>Technical_writer</td>\n",
       "      <td>Alappuzha</td>\n",
       "      <td>Kerala</td>\n",
       "      <td>4</td>\n",
       "      <td>10</td>\n",
       "    </tr>\n",
       "    <tr>\n",
       "      <th>3</th>\n",
       "      <td>4</td>\n",
       "      <td>6256451</td>\n",
       "      <td>41</td>\n",
       "      <td>2</td>\n",
       "      <td>single</td>\n",
       "      <td>rented</td>\n",
       "      <td>yes</td>\n",
       "      <td>Software_Developer</td>\n",
       "      <td>Bhubaneswar</td>\n",
       "      <td>Odisha</td>\n",
       "      <td>2</td>\n",
       "      <td>12</td>\n",
       "    </tr>\n",
       "    <tr>\n",
       "      <th>4</th>\n",
       "      <td>5</td>\n",
       "      <td>5768871</td>\n",
       "      <td>47</td>\n",
       "      <td>11</td>\n",
       "      <td>single</td>\n",
       "      <td>rented</td>\n",
       "      <td>no</td>\n",
       "      <td>Civil_servant</td>\n",
       "      <td>Tiruchirappalli[10]</td>\n",
       "      <td>Tamil_Nadu</td>\n",
       "      <td>3</td>\n",
       "      <td>14</td>\n",
       "    </tr>\n",
       "  </tbody>\n",
       "</table>\n",
       "</div>"
      ],
      "text/plain": [
       "   Id   income  age  experience  married house_ownership car_ownership  \\\n",
       "0   1  1303835   23           3   single          rented            no   \n",
       "1   2  7574516   40          10   single          rented            no   \n",
       "2   3  3991815   66           4  married          rented            no   \n",
       "3   4  6256451   41           2   single          rented           yes   \n",
       "4   5  5768871   47          11   single          rented            no   \n",
       "\n",
       "            profession                 city           state  \\\n",
       "0  Mechanical_engineer                 Rewa  Madhya_Pradesh   \n",
       "1   Software_Developer             Parbhani     Maharashtra   \n",
       "2     Technical_writer            Alappuzha          Kerala   \n",
       "3   Software_Developer          Bhubaneswar          Odisha   \n",
       "4        Civil_servant  Tiruchirappalli[10]      Tamil_Nadu   \n",
       "\n",
       "   current_job_years  current_house_years  \n",
       "0                  3                   13  \n",
       "1                  9                   13  \n",
       "2                  4                   10  \n",
       "3                  2                   12  \n",
       "4                  3                   14  "
      ]
     },
     "execution_count": 4,
     "metadata": {},
     "output_type": "execute_result"
    }
   ],
   "source": [
    "train1.head()"
   ]
  },
  {
   "cell_type": "markdown",
   "id": "0a100ccf",
   "metadata": {},
   "source": [
    "## data is clean"
   ]
  },
  {
   "cell_type": "code",
   "execution_count": 5,
   "id": "01708937",
   "metadata": {},
   "outputs": [
    {
     "data": {
      "text/plain": [
       "Id                     0\n",
       "income                 0\n",
       "age                    0\n",
       "experience             0\n",
       "married                0\n",
       "house_ownership        0\n",
       "car_ownership          0\n",
       "profession             0\n",
       "city                   0\n",
       "state                  0\n",
       "current_job_years      0\n",
       "current_house_years    0\n",
       "dtype: int64"
      ]
     },
     "execution_count": 5,
     "metadata": {},
     "output_type": "execute_result"
    }
   ],
   "source": [
    "#categorical fea\n",
    "train1.isnull().sum()"
   ]
  },
  {
   "cell_type": "markdown",
   "id": "c3527fb4",
   "metadata": {},
   "source": [
    "## do the one cot encoding on categorical features "
   ]
  },
  {
   "cell_type": "code",
   "execution_count": 7,
   "id": "a145d6c4",
   "metadata": {},
   "outputs": [],
   "source": [
    "list1=[]\n",
    "for i in (train1.dtypes==\"object\"):\n",
    "    list1.append(i)\n",
    "train1.drop(['state',\"city\",\"profession\"], axis=1,inplace=True)    "
   ]
  },
  {
   "cell_type": "code",
   "execution_count": 15,
   "id": "ec7b6b34",
   "metadata": {},
   "outputs": [],
   "source": [
    "list1\n",
    "\n",
    "train1[\"id\"]=train1[\"Id\"]\n",
    "train1.drop(\"Id\",axis=1,inplace=True)\n"
   ]
  },
  {
   "cell_type": "code",
   "execution_count": 16,
   "id": "4743ca20",
   "metadata": {},
   "outputs": [],
   "source": [
    "train1=pd.get_dummies(train1)"
   ]
  },
  {
   "cell_type": "code",
   "execution_count": 17,
   "id": "ed8e393f",
   "metadata": {},
   "outputs": [
    {
     "data": {
      "text/plain": [
       "Index(['income', 'age', 'experience', 'current_job_years',\n",
       "       'current_house_years', 'married_married', 'married_single',\n",
       "       'house_ownership_norent_noown', 'house_ownership_owned',\n",
       "       'house_ownership_rented', 'car_ownership_no', 'car_ownership_yes',\n",
       "       'id'],\n",
       "      dtype='object')"
      ]
     },
     "execution_count": 17,
     "metadata": {},
     "output_type": "execute_result"
    }
   ],
   "source": [
    "train1.columns\n"
   ]
  },
  {
   "cell_type": "code",
   "execution_count": 19,
   "id": "631ec6f6",
   "metadata": {},
   "outputs": [],
   "source": [
    "train1.head()\n",
    "import matplotlib.pyplot as plt"
   ]
  },
  {
   "cell_type": "markdown",
   "id": "406856a0",
   "metadata": {},
   "source": [
    "## standardize the income"
   ]
  },
  {
   "cell_type": "code",
   "execution_count": 20,
   "id": "89dcbe58",
   "metadata": {},
   "outputs": [
    {
     "data": {
      "text/html": [
       "<div>\n",
       "<style scoped>\n",
       "    .dataframe tbody tr th:only-of-type {\n",
       "        vertical-align: middle;\n",
       "    }\n",
       "\n",
       "    .dataframe tbody tr th {\n",
       "        vertical-align: top;\n",
       "    }\n",
       "\n",
       "    .dataframe thead th {\n",
       "        text-align: right;\n",
       "    }\n",
       "</style>\n",
       "<table border=\"1\" class=\"dataframe\">\n",
       "  <thead>\n",
       "    <tr style=\"text-align: right;\">\n",
       "      <th></th>\n",
       "      <th>income</th>\n",
       "      <th>age</th>\n",
       "      <th>experience</th>\n",
       "      <th>current_job_years</th>\n",
       "      <th>current_house_years</th>\n",
       "      <th>married_married</th>\n",
       "      <th>married_single</th>\n",
       "      <th>house_ownership_norent_noown</th>\n",
       "      <th>house_ownership_owned</th>\n",
       "      <th>house_ownership_rented</th>\n",
       "      <th>car_ownership_no</th>\n",
       "      <th>car_ownership_yes</th>\n",
       "      <th>id</th>\n",
       "    </tr>\n",
       "  </thead>\n",
       "  <tbody>\n",
       "    <tr>\n",
       "      <th>0</th>\n",
       "      <td>0.260917</td>\n",
       "      <td>23</td>\n",
       "      <td>3</td>\n",
       "      <td>3</td>\n",
       "      <td>13</td>\n",
       "      <td>0</td>\n",
       "      <td>1</td>\n",
       "      <td>0</td>\n",
       "      <td>0</td>\n",
       "      <td>1</td>\n",
       "      <td>1</td>\n",
       "      <td>0</td>\n",
       "      <td>1</td>\n",
       "    </tr>\n",
       "    <tr>\n",
       "      <th>1</th>\n",
       "      <td>1.515777</td>\n",
       "      <td>40</td>\n",
       "      <td>10</td>\n",
       "      <td>9</td>\n",
       "      <td>13</td>\n",
       "      <td>0</td>\n",
       "      <td>1</td>\n",
       "      <td>0</td>\n",
       "      <td>0</td>\n",
       "      <td>1</td>\n",
       "      <td>1</td>\n",
       "      <td>0</td>\n",
       "      <td>2</td>\n",
       "    </tr>\n",
       "    <tr>\n",
       "      <th>2</th>\n",
       "      <td>0.798824</td>\n",
       "      <td>66</td>\n",
       "      <td>4</td>\n",
       "      <td>4</td>\n",
       "      <td>10</td>\n",
       "      <td>1</td>\n",
       "      <td>0</td>\n",
       "      <td>0</td>\n",
       "      <td>0</td>\n",
       "      <td>1</td>\n",
       "      <td>1</td>\n",
       "      <td>0</td>\n",
       "      <td>3</td>\n",
       "    </tr>\n",
       "  </tbody>\n",
       "</table>\n",
       "</div>"
      ],
      "text/plain": [
       "     income  age  experience  current_job_years  current_house_years  \\\n",
       "0  0.260917   23           3                  3                   13   \n",
       "1  1.515777   40          10                  9                   13   \n",
       "2  0.798824   66           4                  4                   10   \n",
       "\n",
       "   married_married  married_single  house_ownership_norent_noown  \\\n",
       "0                0               1                             0   \n",
       "1                0               1                             0   \n",
       "2                1               0                             0   \n",
       "\n",
       "   house_ownership_owned  house_ownership_rented  car_ownership_no  \\\n",
       "0                      0                       1                 1   \n",
       "1                      0                       1                 1   \n",
       "2                      0                       1                 1   \n",
       "\n",
       "   car_ownership_yes  id  \n",
       "0                  0   1  \n",
       "1                  0   2  \n",
       "2                  0   3  "
      ]
     },
     "execution_count": 20,
     "metadata": {},
     "output_type": "execute_result"
    }
   ],
   "source": [
    "plt.show()\n",
    "train1[\"income\"].mean()\n",
    "train1[\"income\"]=train1[\"income\"]/(train1[\"income\"].mean())\n",
    "train1.head(3)"
   ]
  },
  {
   "cell_type": "code",
   "execution_count": 21,
   "id": "931b7e15",
   "metadata": {},
   "outputs": [
    {
     "data": {
      "text/html": [
       "<div>\n",
       "<style scoped>\n",
       "    .dataframe tbody tr th:only-of-type {\n",
       "        vertical-align: middle;\n",
       "    }\n",
       "\n",
       "    .dataframe tbody tr th {\n",
       "        vertical-align: top;\n",
       "    }\n",
       "\n",
       "    .dataframe thead th {\n",
       "        text-align: right;\n",
       "    }\n",
       "</style>\n",
       "<table border=\"1\" class=\"dataframe\">\n",
       "  <thead>\n",
       "    <tr style=\"text-align: right;\">\n",
       "      <th></th>\n",
       "      <th>income</th>\n",
       "      <th>age</th>\n",
       "      <th>experience</th>\n",
       "      <th>current_job_years</th>\n",
       "      <th>current_house_years</th>\n",
       "      <th>married_married</th>\n",
       "      <th>married_single</th>\n",
       "      <th>house_ownership_norent_noown</th>\n",
       "      <th>house_ownership_owned</th>\n",
       "      <th>house_ownership_rented</th>\n",
       "      <th>car_ownership_no</th>\n",
       "      <th>car_ownership_yes</th>\n",
       "      <th>id</th>\n",
       "    </tr>\n",
       "  </thead>\n",
       "  <tbody>\n",
       "    <tr>\n",
       "      <th>0</th>\n",
       "      <td>0.260917</td>\n",
       "      <td>23</td>\n",
       "      <td>3</td>\n",
       "      <td>3</td>\n",
       "      <td>13</td>\n",
       "      <td>0</td>\n",
       "      <td>1</td>\n",
       "      <td>0</td>\n",
       "      <td>0</td>\n",
       "      <td>1</td>\n",
       "      <td>1</td>\n",
       "      <td>0</td>\n",
       "      <td>1</td>\n",
       "    </tr>\n",
       "    <tr>\n",
       "      <th>1</th>\n",
       "      <td>1.515777</td>\n",
       "      <td>40</td>\n",
       "      <td>10</td>\n",
       "      <td>9</td>\n",
       "      <td>13</td>\n",
       "      <td>0</td>\n",
       "      <td>1</td>\n",
       "      <td>0</td>\n",
       "      <td>0</td>\n",
       "      <td>1</td>\n",
       "      <td>1</td>\n",
       "      <td>0</td>\n",
       "      <td>2</td>\n",
       "    </tr>\n",
       "    <tr>\n",
       "      <th>2</th>\n",
       "      <td>0.798824</td>\n",
       "      <td>66</td>\n",
       "      <td>4</td>\n",
       "      <td>4</td>\n",
       "      <td>10</td>\n",
       "      <td>1</td>\n",
       "      <td>0</td>\n",
       "      <td>0</td>\n",
       "      <td>0</td>\n",
       "      <td>1</td>\n",
       "      <td>1</td>\n",
       "      <td>0</td>\n",
       "      <td>3</td>\n",
       "    </tr>\n",
       "    <tr>\n",
       "      <th>3</th>\n",
       "      <td>1.252012</td>\n",
       "      <td>41</td>\n",
       "      <td>2</td>\n",
       "      <td>2</td>\n",
       "      <td>12</td>\n",
       "      <td>0</td>\n",
       "      <td>1</td>\n",
       "      <td>0</td>\n",
       "      <td>0</td>\n",
       "      <td>1</td>\n",
       "      <td>0</td>\n",
       "      <td>1</td>\n",
       "      <td>4</td>\n",
       "    </tr>\n",
       "    <tr>\n",
       "      <th>4</th>\n",
       "      <td>1.154440</td>\n",
       "      <td>47</td>\n",
       "      <td>11</td>\n",
       "      <td>3</td>\n",
       "      <td>14</td>\n",
       "      <td>0</td>\n",
       "      <td>1</td>\n",
       "      <td>0</td>\n",
       "      <td>0</td>\n",
       "      <td>1</td>\n",
       "      <td>1</td>\n",
       "      <td>0</td>\n",
       "      <td>5</td>\n",
       "    </tr>\n",
       "  </tbody>\n",
       "</table>\n",
       "</div>"
      ],
      "text/plain": [
       "     income  age  experience  current_job_years  current_house_years  \\\n",
       "0  0.260917   23           3                  3                   13   \n",
       "1  1.515777   40          10                  9                   13   \n",
       "2  0.798824   66           4                  4                   10   \n",
       "3  1.252012   41           2                  2                   12   \n",
       "4  1.154440   47          11                  3                   14   \n",
       "\n",
       "   married_married  married_single  house_ownership_norent_noown  \\\n",
       "0                0               1                             0   \n",
       "1                0               1                             0   \n",
       "2                1               0                             0   \n",
       "3                0               1                             0   \n",
       "4                0               1                             0   \n",
       "\n",
       "   house_ownership_owned  house_ownership_rented  car_ownership_no  \\\n",
       "0                      0                       1                 1   \n",
       "1                      0                       1                 1   \n",
       "2                      0                       1                 1   \n",
       "3                      0                       1                 0   \n",
       "4                      0                       1                 1   \n",
       "\n",
       "   car_ownership_yes  id  \n",
       "0                  0   1  \n",
       "1                  0   2  \n",
       "2                  0   3  \n",
       "3                  1   4  \n",
       "4                  0   5  "
      ]
     },
     "execution_count": 21,
     "metadata": {},
     "output_type": "execute_result"
    }
   ],
   "source": [
    "train1.head()"
   ]
  },
  {
   "cell_type": "markdown",
   "id": "8b2324d8",
   "metadata": {},
   "source": [
    "## smote for imbalanced dataset"
   ]
  },
  {
   "cell_type": "code",
   "execution_count": 23,
   "id": "827665e9",
   "metadata": {},
   "outputs": [],
   "source": [
    "from imblearn.over_sampling import SMOTE, ADASYN\n",
    "\n",
    "from sklearn.model_selection import train_test_split\n",
    "from sklearn.preprocessing import MinMaxScaler\n",
    "from sklearn.metrics import confusion_matrix\n",
    "import seaborn as sns\n",
    "from imblearn.over_sampling import BorderlineSMOTE"
   ]
  },
  {
   "cell_type": "code",
   "execution_count": 24,
   "id": "4f4407f2",
   "metadata": {},
   "outputs": [],
   "source": [
    "X=train1"
   ]
  },
  {
   "cell_type": "code",
   "execution_count": 25,
   "id": "163c1836",
   "metadata": {},
   "outputs": [
    {
     "data": {
      "text/plain": [
       "Index(['income', 'age', 'experience', 'current_job_years',\n",
       "       'current_house_years', 'married_married', 'married_single',\n",
       "       'house_ownership_norent_noown', 'house_ownership_owned',\n",
       "       'house_ownership_rented', 'car_ownership_no', 'car_ownership_yes',\n",
       "       'id'],\n",
       "      dtype='object')"
      ]
     },
     "execution_count": 25,
     "metadata": {},
     "output_type": "execute_result"
    }
   ],
   "source": [
    "train1.columns"
   ]
  },
  {
   "cell_type": "code",
   "execution_count": 26,
   "id": "9e57c946",
   "metadata": {},
   "outputs": [
    {
     "data": {
      "text/plain": [
       "Index(['Id', 'income', 'age', 'experience', 'married', 'house_ownership',\n",
       "       'car_ownership', 'profession', 'city', 'state', 'current_job_years',\n",
       "       'current_house_years', 'risk_flag'],\n",
       "      dtype='object')"
      ]
     },
     "execution_count": 26,
     "metadata": {},
     "output_type": "execute_result"
    }
   ],
   "source": [
    "train.columns"
   ]
  },
  {
   "cell_type": "code",
   "execution_count": 27,
   "id": "d2b6e14e",
   "metadata": {},
   "outputs": [],
   "source": [
    "y=train[\"risk_flag\"]"
   ]
  },
  {
   "cell_type": "code",
   "execution_count": 30,
   "id": "7ddac4fb",
   "metadata": {},
   "outputs": [
    {
     "data": {
      "text/plain": [
       "LogisticRegression(C=0.5, max_iter=10000, random_state=0)"
      ]
     },
     "execution_count": 30,
     "metadata": {},
     "output_type": "execute_result"
    }
   ],
   "source": [
    "x_sm, y_sm = SMOTE(random_state=1).fit_resample(X, y)\n",
    "model_lr_smote = LogisticRegression(penalty=\"l2\",\n",
    "                                    C=0.5,\n",
    "                                    fit_intercept=True,\n",
    "                                    random_state=0,\n",
    "                                    max_iter=10000,\n",
    "                                    solver='lbfgs')\n",
    "model_lr_smote.fit(x_sm, y_sm)"
   ]
  },
  {
   "cell_type": "code",
   "execution_count": 33,
   "id": "3107ca0b",
   "metadata": {},
   "outputs": [],
   "source": [
    " from sklearn.linear_model import LogisticRegression\n",
    "from sklearn.model_selection import train_test_split"
   ]
  },
  {
   "cell_type": "code",
   "execution_count": 35,
   "id": "d6fb9f5d",
   "metadata": {},
   "outputs": [],
   "source": [
    "model_lr_base = LogisticRegression(penalty=\"l2\",\n",
    "                                   C=0.5,\n",
    "                                   fit_intercept=True,\n",
    "                                   random_state=0,\n",
    "                                   max_iter=10000,\n",
    "                                   solver='lbfgs')\n",
    "model_lr_base.fit(X, y)\n",
    "x_train, x_test, y_train, y_test = train_test_split(X, y, test_size=0.3, random_state=0)\n",
    "                                                    "
   ]
  },
  {
   "cell_type": "code",
   "execution_count": 44,
   "id": "9bd555bc",
   "metadata": {},
   "outputs": [
    {
     "name": "stdout",
     "output_type": "stream",
     "text": [
      "Accuracy: 87.75%\n",
      "[[66338     0]\n",
      " [ 9262     0]]\n",
      "PR-AUC:  0.1424495057735916\n"
     ]
    }
   ],
   "source": [
    "y_pred_lr = model_lr_base.predict(x_test)\n",
    "print(\"Accuracy: %.2f%%\" % (model_lr_base.score(x_test, y_test) * 100))\n",
    "print(confusion_matrix(y_test, y_pred_lr))\n",
    "from sklearn.metrics import precision_recall_curve\n",
    "from sklearn.metrics import roc_curve, auc\n",
    "\n",
    "# predict probabilities\n",
    "prob = model_lr_base.predict_proba(x_test)\n",
    "# keep probabilities for the positive outcome only\n",
    "preds = prob[:,1]\n",
    "# calculate pr curve\n",
    "precision_lr, recall_lr, threshold = precision_recall_curve(y_test, preds)\n",
    "# calculate auc, equivalent to roc_auc_score()?\n",
    "print('PR-AUC: ', auc(recall_lr, precision_lr))"
   ]
  },
  {
   "cell_type": "code",
   "execution_count": 32,
   "id": "73c56b98",
   "metadata": {},
   "outputs": [],
   "source": [
    "test=pd.read_csv(\"univ ai test data.csv\")"
   ]
  },
  {
   "cell_type": "code",
   "execution_count": 47,
   "id": "50150891",
   "metadata": {},
   "outputs": [
    {
     "name": "stdout",
     "output_type": "stream",
     "text": [
      "Accuracy: 12.25%\n",
      "[[    0 66338]\n",
      " [    0  9262]]\n",
      "PR-AUC:  0.14913149074742843\n"
     ]
    }
   ],
   "source": [
    "y_pred_lr = model_lr_smote.predict(x_test)\n",
    "print(\"Accuracy: %.2f%%\" % (model_lr_smote.score(x_test, y_test) * 100))\n",
    "print(confusion_matrix(y_test, y_pred_lr))\n",
    "\n",
    "\n",
    "# predict probabilities\n",
    "prob = model_lr_smote.predict_proba(x_test)\n",
    "# keep probabilities for the positive outcome only\n",
    "preds = prob[:,1]\n",
    "# calculate pr curve\n",
    "precision_lr, recall_lr, threshold = precision_recall_curve(y_test, preds)\n",
    "# calculate auc, equivalent to roc_auc_score()?\n",
    "print('PR-AUC: ', auc(recall_lr, precision_lr))"
   ]
  },
  {
   "cell_type": "code",
   "execution_count": 51,
   "id": "105fef75",
   "metadata": {},
   "outputs": [
    {
     "data": {
      "text/plain": [
       "RandomForestClassifier(class_weight='balanced', min_samples_leaf=30,\n",
       "                       n_estimators=20, n_jobs=-1, oob_score=True,\n",
       "                       random_state=100)"
      ]
     },
     "execution_count": 51,
     "metadata": {},
     "output_type": "execute_result"
    }
   ],
   "source": [
    "rf = RandomForestClassifier(n_estimators=20,\n",
    "                                    min_samples_leaf=30,\n",
    "                                    oob_score=True,\n",
    "                                    random_state=100,\n",
    "                                    class_weight='balanced',\n",
    "                                    n_jobs=-1)\n",
    "rf.fit(x_train, y_train.values.ravel())"
   ]
  },
  {
   "cell_type": "code",
   "execution_count": 54,
   "id": "5e13f5a1",
   "metadata": {},
   "outputs": [
    {
     "data": {
      "text/plain": [
       "RandomForestClassifier(min_samples_leaf=30, n_estimators=50, n_jobs=-1,\n",
       "                       oob_score=True, random_state=100)"
      ]
     },
     "execution_count": 54,
     "metadata": {},
     "output_type": "execute_result"
    }
   ],
   "source": [
    "from sklearn.ensemble import RandomForestClassifier\n",
    "model_rf_base = RandomForestClassifier(n_estimators=50,\n",
    "                                        min_samples_leaf=30,\n",
    "                                        oob_score=True,\n",
    "                                        random_state=100,\n",
    "                                        n_jobs=-1)\n",
    "model_rf_base.fit(x_train, y_train.values.ravel())"
   ]
  },
  {
   "cell_type": "markdown",
   "id": "916c0a24",
   "metadata": {},
   "source": [
    "## stacking classifier\n"
   ]
  },
  {
   "cell_type": "code",
   "execution_count": null,
   "id": "3a28505a",
   "metadata": {},
   "outputs": [],
   "source": [
    "model = StackingClassifier(estimators=level0, final_estimator=level1, cv=5)"
   ]
  },
  {
   "cell_type": "code",
   "execution_count": 56,
   "id": "69d25d90",
   "metadata": {},
   "outputs": [
    {
     "name": "stdout",
     "output_type": "stream",
     "text": [
      "Accuracy: 87.80%\n",
      "[[66330     8]\n",
      " [ 9214    48]]\n",
      "PR-AUC:  0.5381805383130661\n"
     ]
    }
   ],
   "source": [
    "y_pred = model_rf_base.predict(x_test)\n",
    "print(\"Accuracy: %.2f%%\" % (model_rf_base.score(x_test, y_test) * 100))\n",
    "print(confusion_matrix(y_test, y_pred))\n",
    "\n",
    "\n",
    "# predict probabilities\n",
    "prob = model_rf_base.predict_proba(x_test)\n",
    "# keep probabilities for the positive outcome only\n",
    "preds = prob[:,1]\n",
    "# calculate pr curve\n",
    "precision_rf, recall_rf, threshold = precision_recall_curve(y_test, preds)\n",
    "# calculate auc, equivalent to roc_auc_score()?\n",
    "print('PR-AUC: ', auc(recall_rf, precision_rf))"
   ]
  },
  {
   "cell_type": "code",
   "execution_count": 58,
   "id": "41fad2bd",
   "metadata": {},
   "outputs": [
    {
     "data": {
      "text/plain": [
       "RandomForestClassifier(min_samples_leaf=30, n_estimators=500, n_jobs=-1,\n",
       "                       oob_score=True, random_state=100)"
      ]
     },
     "execution_count": 58,
     "metadata": {},
     "output_type": "execute_result"
    }
   ],
   "source": [
    "x_train_rf_sm, y_train_sm = SMOTE(random_state=1).fit_resample(x_train, y_train.values.ravel())\n",
    "model_rf_smote = RandomForestClassifier(n_estimators=500,\n",
    "                                        min_samples_leaf=30,\n",
    "                                        oob_score=True,\n",
    "                                        random_state=100,\n",
    "                                        n_jobs=-1)\n",
    "model_rf_smote.fit(x_train_rf_sm, y_train_sm)"
   ]
  },
  {
   "cell_type": "code",
   "execution_count": 61,
   "id": "3e9b4d96",
   "metadata": {},
   "outputs": [
    {
     "name": "stdout",
     "output_type": "stream",
     "text": [
      "Accuracy: 81.94%\n",
      "[[58738  7600]\n",
      " [ 6057  3205]]\n",
      "PR-AUC:  0.2929750270607697\n"
     ]
    }
   ],
   "source": [
    "y_pred_rf = model_rf_smote.predict(x_test)\n",
    "print(\"Accuracy: %.2f%%\" % (model_rf_smote.score(x_test, y_test) * 100))\n",
    "print(confusion_matrix(y_test, y_pred_rf))\n",
    "\n",
    "\n",
    "prob = model_rf_smote.predict_proba(x_test)\n",
    "preds = prob[:,1]\n",
    "precision_rf, recall_rf, threshold = precision_recall_curve(y_test, preds)\n",
    "print('PR-AUC: ', auc(recall_rf, precision_rf))"
   ]
  },
  {
   "cell_type": "code",
   "execution_count": 64,
   "id": "0aabc29c",
   "metadata": {},
   "outputs": [],
   "source": [
    "scaler = StandardScaler()\n",
    "scaler.fit(x_train.astype('float64'))\n",
    "StandardScaler(copy=True, with_mean=True, with_std=True)\n",
    "x_train_nn = scaler.transform(x_train.astype('float64'))\n",
    "x_test_nn = scaler.transform(x_test.astype('float64'))"
   ]
  },
  {
   "cell_type": "code",
   "execution_count": 67,
   "id": "42d6ef73",
   "metadata": {},
   "outputs": [
    {
     "data": {
      "text/plain": [
       "(252000, 13)"
      ]
     },
     "execution_count": 67,
     "metadata": {},
     "output_type": "execute_result"
    }
   ],
   "source": [
    "from sklearn.preprocessing import StandardScaler\n",
    "X.shape"
   ]
  },
  {
   "cell_type": "code",
   "execution_count": 72,
   "id": "384c16b8",
   "metadata": {},
   "outputs": [
    {
     "data": {
      "text/plain": [
       "XGBClassifier(base_score=0.5, booster='gbtree', colsample_bylevel=1,\n",
       "              colsample_bynode=1, colsample_bytree=1, gamma=0, gpu_id=-1,\n",
       "              importance_type='gain', interaction_constraints='',\n",
       "              learning_rate=0.05, max_delta_step=0, max_depth=3,\n",
       "              min_child_weight=1, missing=nan, monotone_constraints='()',\n",
       "              n_estimators=300, n_jobs=12, num_parallel_tree=1, random_state=42,\n",
       "              reg_alpha=0, reg_lambda=1, scale_pos_weight=1, subsample=0.8,\n",
       "              tree_method='exact', validate_parameters=1, verbosity=None)"
      ]
     },
     "execution_count": 72,
     "metadata": {},
     "output_type": "execute_result"
    }
   ],
   "source": [
    "model_xgb = XGBClassifier(max_depth=3,\n",
    "                          learning_rate=0.05,\n",
    "                          n_estimators=300,\n",
    "                          objective='binary:logistic',\n",
    "                          subsample=0.8,\n",
    "                          random_state=42)\n",
    "eval_set = [(x_train, y_train.values.ravel()), (x_test, y_test.values.ravel())]\n",
    "eval_metric = ['auc', 'error']\n",
    "model_xgb.fit(x_train, y_train.values.ravel(), eval_metric=eval_metric, eval_set=eval_set, \n",
    "              verbose=False)"
   ]
  },
  {
   "cell_type": "code",
   "execution_count": 71,
   "id": "6a801d0b",
   "metadata": {},
   "outputs": [],
   "source": [
    "from xgboost import XGBClassifier"
   ]
  },
  {
   "cell_type": "code",
   "execution_count": 75,
   "id": "28b9517e",
   "metadata": {},
   "outputs": [
    {
     "data": {
      "image/png": "[encoded data removed]",
      "text/plain": [
       "<Figure size 1080x270 with 2 Axes>"
      ]
     },
     "metadata": {
      "needs_background": "light"
     },
     "output_type": "display_data"
    }
   ],
   "source": [
    "results = model_xgb.evals_result()\n",
    "epochs = len(results['validation_0']['error'])\n",
    "x_axis = range(0, epochs)\n",
    "\n",
    "f, (ax1, ax2) = plt.subplots(nrows=1, ncols=2, figsize=(12, 3), dpi=90)\n",
    "ax1.plot(x_axis, results['validation_0']['auc'], label='Train')\n",
    "ax1.plot(x_axis, results['validation_1']['auc'], label='Test')\n",
    "ax1.legend()\n",
    "ax1.set_ylabel('AUC')\n",
    "ax1.set_title('XGBoost PR-AUC')\n",
    "\n",
    "ax2.plot(x_axis, results['validation_0']['error'], label='Train')\n",
    "ax2.plot(x_axis, results['validation_1']['error'], label='Test')\n",
    "ax2.legend()\n",
    "ax2.set_ylabel('Classification Error')\n",
    "ax2.set_title('XGBoost Classification Error')\n",
    "plt.show()\n",
    "\n",
    "\n",
    "plt.show()"
   ]
  },
  {
   "cell_type": "code",
   "execution_count": 78,
   "id": "9c78d22d",
   "metadata": {},
   "outputs": [
    {
     "name": "stdout",
     "output_type": "stream",
     "text": [
      "[00:13:39] WARNING: ..\\src\\learner.cc:1095: Starting in XGBoost 1.3.0, the default evaluation metric used with the objective 'binary:logistic' was changed from 'error' to 'logloss'. Explicitly set eval_metric if you'd like to restore the old behavior.\n"
     ]
    },
    {
     "data": {
      "text/plain": [
       "XGBClassifier(base_score=0.5, booster='gbtree', colsample_bylevel=1,\n",
       "              colsample_bynode=1, colsample_bytree=1, gamma=0, gpu_id=-1,\n",
       "              importance_type='gain', interaction_constraints='',\n",
       "              learning_rate=0.05, max_delta_step=0, max_depth=3,\n",
       "              min_child_weight=1, missing=nan, monotone_constraints='()',\n",
       "              n_estimators=300, n_jobs=12, num_parallel_tree=1, random_state=42,\n",
       "              reg_alpha=0, reg_lambda=1, scale_pos_weight=1, subsample=0.8,\n",
       "              tree_method='exact', validate_parameters=1, verbosity=None)"
      ]
     },
     "execution_count": 78,
     "metadata": {},
     "output_type": "execute_result"
    }
   ],
   "source": [
    "model_xgb_base = XGBClassifier(max_depth=3, \n",
    "                                   learning_rate=0.05, \n",
    "                                   n_estimators=300, \n",
    "                                   objective='binary:logistic', \n",
    "                                   subsample=0.8, \n",
    "                                   random_state=42)\n",
    "model_xgb_base.fit(x_train, y_train.values.ravel())"
   ]
  },
  {
   "cell_type": "code",
   "execution_count": 81,
   "id": "fe680076",
   "metadata": {},
   "outputs": [
    {
     "name": "stdout",
     "output_type": "stream",
     "text": [
      "Accuracy: 87.76%\n",
      "[[66333     5]\n",
      " [ 9245    17]]\n",
      "PR-AUC:  0.2603512209759907\n"
     ]
    }
   ],
   "source": [
    "y_pred_xgb = model_xgb_base.predict(x_test)\n",
    "print(\"Accuracy: %.2f%%\" % (model_xgb_base.score(x_test, y_test) * 100))\n",
    "print(confusion_matrix(y_test, y_pred_xgb))\n",
    "\n",
    "# predict probabilities\n",
    "prob = model_xgb_base.predict_proba(x_test)\n",
    "# keep probabilities for the positive outcome only\n",
    "preds = prob[:,1]\n",
    "# calculate pr curve\n",
    "precision_xgb, recall_xgb, threshold = precision_recall_curve(y_test, preds)\n",
    "# calculate auc, equivalent to roc_auc_score()?\n",
    "print('PR-AUC: ', auc(recall_xgb, precision_xgb))"
   ]
  },
  {
   "cell_type": "code",
   "execution_count": 83,
   "id": "c2a7a929",
   "metadata": {},
   "outputs": [],
   "source": [
    "output_rf = model_rf_base.predict_proba(x_test)\n",
    "output_rf2 = model_rf_base.predict(x_test)\n",
    "\n",
    "\n",
    "\n",
    "# XGBoost Model\n",
    "output_xgb = model_xgb.predict_proba(x_test)\n",
    "output_xgb2 = model_xgb.predict(x_test)\n",
    "\n",
    "# Ensemble output\n",
    "# Avg\n",
    "output = (output_rf + output_xgb) / 2\n",
    "\n",
    "# Majority vote\n",
    "output2 = pd.DataFrame({'rf': output_rf2, 'xgb': output_xgb2})\n",
    "output2['Prediction'] = output2.sum(axis=1)\n",
    "output2.loc[output2['Prediction'] < 2, 'Prediction'] = 0\n",
    "output2.loc[output2['Prediction'] >= 2, 'Prediction'] = 1"
   ]
  },
  {
   "cell_type": "code",
   "execution_count": 87,
   "id": "4d51f3b8",
   "metadata": {},
   "outputs": [
    {
     "name": "stdout",
     "output_type": "stream",
     "text": [
      "[00:19:47] WARNING: ..\\src\\learner.cc:1095: Starting in XGBoost 1.3.0, the default evaluation metric used with the objective 'binary:logistic' was changed from 'error' to 'logloss'. Explicitly set eval_metric if you'd like to restore the old behavior.\n"
     ]
    },
    {
     "data": {
      "text/plain": [
       "LogisticRegression(C=0.5, class_weight='balanced', max_iter=10000,\n",
       "                   random_state=0)"
      ]
     },
     "execution_count": 87,
     "metadata": {},
     "output_type": "execute_result"
    }
   ],
   "source": [
    "y_pred_stacking_rf = model_rf_base.predict(x_train)\n",
    "\n",
    "y_pred_stacking_xgb = model_xgb.predict(x_train)\n",
    "x_train_stacking = pd.DataFrame({'rf': y_pred_stacking_rf,  'xgb': y_pred_stacking_xgb})\n",
    "y_train_stacking = pd.DataFrame(y_train.copy())\n",
    "x_test_stacking = pd.DataFrame({'rf': output_rf2,  'xgb': output_xgb2})\n",
    "y_test_stacking = pd.DataFrame(y_test.copy())\n",
    "\n",
    "# Fit the Meta Learner from first level predictions\n",
    "neg_weight = y_train_stacking['risk_flag'].value_counts(dropna=False)[0] / y_train_stacking['risk_flag'].value_counts(dropna=False)[1]\n",
    "model_stacking_xgb = XGBClassifier(max_depth=3, \n",
    "                                   learning_rate=0.05, \n",
    "                                   n_estimators=300, \n",
    "                                   objective='binary:logistic', \n",
    "                                   subsample=0.8, \n",
    "                                   scale_pos_weight=neg_weight, \n",
    "                                   random_state=42)\n",
    "model_stacking_xgb.fit(x_train_stacking, y_train_stacking.values.ravel())\n",
    "\n",
    "model_stacking_lr = LogisticRegression(penalty=\"l2\", C=0.5, fit_intercept=True, class_weight='balanced',\n",
    "                                       random_state=0, max_iter=10000, solver='lbfgs')\n",
    "model_stacking_lr.fit(x_train_stacking, y_train_stacking.values.ravel())\n"
   ]
  },
  {
   "cell_type": "code",
   "execution_count": 92,
   "id": "51ab30d4",
   "metadata": {},
   "outputs": [
    {
     "name": "stdout",
     "output_type": "stream",
     "text": [
      "Averaging Method\n",
      "Accuracy: 87.76%\n",
      "\n",
      "Majority Method\n",
      "Accuracy: 87.75%\n",
      "[[    0  9262]\n",
      " [    0 66338]]\n"
     ]
    }
   ],
   "source": [
    "p_output = pd.DataFrame(output.copy())\n",
    "p_output.columns = ['Fully Paid', 'Default']\n",
    "p_output['Prediction'] = p_output.idxmax(axis=1)\n",
    "p_output['Fully Paid'] = p_output['Fully Paid'].multiply(100).round(0).astype(int).astype(str) + '%'\n",
    "p_output['Default'] = p_output['Default'].multiply(100).round(0).astype(int).astype(str) + '%'\n",
    "\n",
    "y_test2 = pd.DataFrame(y_test.copy())\n",
    "y_test2.columns = ['Prediction']\n",
    "y_test2['Prediction'].replace(0, 'Fully Paid', inplace=True)\n",
    "y_test2['Prediction'].replace(1, 'Default', inplace=True)\n",
    "print('Averaging Method')\n",
    "accuracy = accuracy_score(y_true=y_test2, y_pred=p_output['Prediction'])\n",
    "print(\"Accuracy: %.2f%%\" % (accuracy * 100))\n",
    "\n",
    "# Majority\n",
    "output2['Prediction'].replace(0, 'Fully Paid', inplace=True)\n",
    "output2['Prediction'].replace(1, 'Default', inplace=True)\n",
    "\n",
    "print('\\nMajority Method')\n",
    "accuracy = accuracy_score(y_true=y_test2, y_pred=output2['Prediction'])\n",
    "print(\"Accuracy: %.2f%%\" % (accuracy * 100))\n",
    "print(confusion_matrix(y_test2, output2['Prediction']))\n"
   ]
  },
  {
   "cell_type": "code",
   "execution_count": 89,
   "id": "4462eb9a",
   "metadata": {},
   "outputs": [],
   "source": [
    "from sklearn.metrics import accuracy_score"
   ]
  },
  {
   "cell_type": "code",
   "execution_count": 94,
   "id": "2afe788a",
   "metadata": {},
   "outputs": [
    {
     "name": "stdout",
     "output_type": "stream",
     "text": [
      "Accuracy: 87.82%\n",
      "[[66325    13]\n",
      " [ 9197    65]]\n",
      "PR-AUC:  0.4809329395641748\n"
     ]
    }
   ],
   "source": [
    "y_pred_xgb = model_stacking_xgb.predict(x_test_stacking)\n",
    "print(\"Accuracy: %.2f%%\" % (model_stacking_xgb.score(x_test_stacking, y_test_stacking) * 100))\n",
    "print(confusion_matrix(y_test_stacking, y_pred_xgb))\n",
    "\n",
    "# predict probabilities\n",
    "prob = model_stacking_xgb.predict_proba(x_test_stacking)\n",
    "# keep probabilities for the positive outcome only\n",
    "preds = prob[:,1]\n",
    "# calculate pr curve\n",
    "precision_xgb, recall_xgb, threshold = precision_recall_curve(y_test_stacking, preds)\n",
    "# calculate auc, equivalent to roc_auc_score()?\n",
    "print('PR-AUC: ', auc(recall_xgb, precision_xgb))"
   ]
  },
  {
   "cell_type": "code",
   "execution_count": 95,
   "id": "47319861",
   "metadata": {},
   "outputs": [
    {
     "name": "stdout",
     "output_type": "stream",
     "text": [
      "Accuracy: 87.82%\n",
      "[[66325    13]\n",
      " [ 9197    65]]\n",
      "PR-AUC:  0.4809329395641748\n"
     ]
    }
   ],
   "source": [
    "y_pred_lr = model_stacking_lr.predict(x_test_stacking)\n",
    "print(\"Accuracy: %.2f%%\" % (model_stacking_lr.score(x_test_stacking, y_test_stacking) * 100))\n",
    "print(confusion_matrix(y_test_stacking, y_pred_lr))\n",
    "\n",
    "prob = model_stacking_lr.predict_proba(x_test_stacking)\n",
    "# keep probabilities for the positive outcome only\n",
    "preds = prob[:,1]\n",
    "# calculate pr curve\n",
    "precision_lr, recall_lr, threshold = precision_recall_curve(y_test_stacking, preds)\n",
    "# calculate auc, equivalent to roc_auc_score()?\n",
    "print('PR-AUC: ', auc(recall_lr, precision_lr))"
   ]
  },
  {
   "cell_type": "code",
   "execution_count": 104,
   "id": "4589bb1a",
   "metadata": {},
   "outputs": [
    {
     "data": {
      "image/png": "[encoded data removed]",
      "text/plain": [
       "<Figure size 1080x270 with 2 Axes>"
      ]
     },
     "metadata": {
      "needs_background": "light"
     },
     "output_type": "display_data"
    }
   ],
   "source": [
    "\n",
    "pos_pred_rf = model_rf_base.predict_proba(x_test)\n",
    "\n",
    "pos_pred_xgb = model_xgb.predict_proba(x_test)\n",
    "# keep probabilities for the positive outcome only\n",
    "pos_pred_rf = pos_pred_rf[:,1]\n",
    "\n",
    "pos_pred_xgb = pos_pred_xgb[:,1]\n",
    "# calculate roc curve\n",
    "fpr_rf, tpr_rf, threshold = roc_curve(y_test, pos_pred_rf)\n",
    "\n",
    "fpr_xgb, tpr_xgb, threshold = roc_curve(y_test, pos_pred_xgb)\n",
    "# # calculate auc, equivalent to roc_auc_score()?\n",
    "roc_auc_rf = auc(fpr_rf, tpr_rf)\n",
    "\n",
    "roc_auc_xgb = auc(fpr_xgb, tpr_xgb)\n",
    "\n",
    "f, (ax1, ax2) = plt.subplots(nrows=1, ncols=2, figsize=(12, 3), dpi=90)\n",
    "ax1.set_title('Receiver Operating Characteristic')\n",
    "ax1.plot(fpr_rf, tpr_rf, 'r', label = 'RF AUC = %0.2f' % roc_auc_rf)\n",
    "\n",
    "ax1.plot(fpr_xgb, tpr_xgb, color='yellow', label = 'XGB AUC = %0.2f' % roc_auc_xgb)\n",
    "ax1.legend(loc = 'lower right')\n",
    "ax1.plot([0, 1], [0, 1], 'g--')\n",
    "ax1.set_ylabel('True Positive Rate')\n",
    "ax1.set_xlabel('False Positie Rate')\n",
    "\n",
    "precision_rf, recall_rf, threshold = precision_recall_curve(y_test, pos_pred_rf)\n",
    "\n",
    "precision_xgb, recall_xgb, threshold = precision_recall_curve(y_test, pos_pred_xgb)\n",
    "pr_auc_rf = auc(recall_rf, precision_rf)\n",
    "\n",
    "pr_auc_xgb = auc(recall_xgb, precision_xgb)\n",
    "ax2.set_title('Precision-Recall Curve')\n",
    "ax2.plot(recall_rf, precision_rf, 'r', label = 'RF AUC = %0.2f' % pr_auc_rf)\n",
    "\n",
    "ax2.plot(recall_xgb, precision_xgb, 'y', label = 'XGB AUC = %0.2f' % pr_auc_xgb)\n",
    "ax2.legend(loc = 'upper right')\n",
    "ax2.plot([0, 1], [0.4, 0.4], 'r--')\n",
    "ax2.set_ylabel('Precision')\n",
    "ax2.set_xlabel('Recall')\n",
    "plt.show()"
   ]
  },
  {
   "cell_type": "code",
   "execution_count": 105,
   "id": "f4e6c10b",
   "metadata": {},
   "outputs": [
    {
     "data": {
      "text/html": [
       "<div>\n",
       "<style scoped>\n",
       "    .dataframe tbody tr th:only-of-type {\n",
       "        vertical-align: middle;\n",
       "    }\n",
       "\n",
       "    .dataframe tbody tr th {\n",
       "        vertical-align: top;\n",
       "    }\n",
       "\n",
       "    .dataframe thead th {\n",
       "        text-align: right;\n",
       "    }\n",
       "</style>\n",
       "<table border=\"1\" class=\"dataframe\">\n",
       "  <thead>\n",
       "    <tr style=\"text-align: right;\">\n",
       "      <th></th>\n",
       "      <th>id</th>\n",
       "      <th>income</th>\n",
       "      <th>age</th>\n",
       "      <th>experience</th>\n",
       "      <th>married</th>\n",
       "      <th>house_ownership</th>\n",
       "      <th>car_ownership</th>\n",
       "      <th>profession</th>\n",
       "      <th>city</th>\n",
       "      <th>state</th>\n",
       "      <th>current_job_years</th>\n",
       "      <th>current_house_years</th>\n",
       "    </tr>\n",
       "  </thead>\n",
       "  <tbody>\n",
       "    <tr>\n",
       "      <th>0</th>\n",
       "      <td>1</td>\n",
       "      <td>7393090</td>\n",
       "      <td>59</td>\n",
       "      <td>19</td>\n",
       "      <td>single</td>\n",
       "      <td>rented</td>\n",
       "      <td>no</td>\n",
       "      <td>Geologist</td>\n",
       "      <td>Malda</td>\n",
       "      <td>West Bengal</td>\n",
       "      <td>4</td>\n",
       "      <td>13</td>\n",
       "    </tr>\n",
       "    <tr>\n",
       "      <th>1</th>\n",
       "      <td>2</td>\n",
       "      <td>1215004</td>\n",
       "      <td>25</td>\n",
       "      <td>5</td>\n",
       "      <td>single</td>\n",
       "      <td>rented</td>\n",
       "      <td>no</td>\n",
       "      <td>Firefighter</td>\n",
       "      <td>Jalna</td>\n",
       "      <td>Maharashtra</td>\n",
       "      <td>5</td>\n",
       "      <td>10</td>\n",
       "    </tr>\n",
       "    <tr>\n",
       "      <th>2</th>\n",
       "      <td>3</td>\n",
       "      <td>8901342</td>\n",
       "      <td>50</td>\n",
       "      <td>12</td>\n",
       "      <td>single</td>\n",
       "      <td>rented</td>\n",
       "      <td>no</td>\n",
       "      <td>Lawyer</td>\n",
       "      <td>Thane</td>\n",
       "      <td>Maharashtra</td>\n",
       "      <td>9</td>\n",
       "      <td>14</td>\n",
       "    </tr>\n",
       "    <tr>\n",
       "      <th>3</th>\n",
       "      <td>4</td>\n",
       "      <td>1944421</td>\n",
       "      <td>49</td>\n",
       "      <td>9</td>\n",
       "      <td>married</td>\n",
       "      <td>rented</td>\n",
       "      <td>yes</td>\n",
       "      <td>Analyst</td>\n",
       "      <td>Latur</td>\n",
       "      <td>Maharashtra</td>\n",
       "      <td>3</td>\n",
       "      <td>12</td>\n",
       "    </tr>\n",
       "    <tr>\n",
       "      <th>4</th>\n",
       "      <td>5</td>\n",
       "      <td>13429</td>\n",
       "      <td>25</td>\n",
       "      <td>18</td>\n",
       "      <td>single</td>\n",
       "      <td>rented</td>\n",
       "      <td>yes</td>\n",
       "      <td>Comedian</td>\n",
       "      <td>Berhampore</td>\n",
       "      <td>West Bengal</td>\n",
       "      <td>13</td>\n",
       "      <td>11</td>\n",
       "    </tr>\n",
       "    <tr>\n",
       "      <th>...</th>\n",
       "      <td>...</td>\n",
       "      <td>...</td>\n",
       "      <td>...</td>\n",
       "      <td>...</td>\n",
       "      <td>...</td>\n",
       "      <td>...</td>\n",
       "      <td>...</td>\n",
       "      <td>...</td>\n",
       "      <td>...</td>\n",
       "      <td>...</td>\n",
       "      <td>...</td>\n",
       "      <td>...</td>\n",
       "    </tr>\n",
       "    <tr>\n",
       "      <th>27995</th>\n",
       "      <td>27996</td>\n",
       "      <td>9955481</td>\n",
       "      <td>57</td>\n",
       "      <td>13</td>\n",
       "      <td>single</td>\n",
       "      <td>rented</td>\n",
       "      <td>no</td>\n",
       "      <td>Statistician</td>\n",
       "      <td>Eluru[25]</td>\n",
       "      <td>Andhra Pradesh</td>\n",
       "      <td>5</td>\n",
       "      <td>10</td>\n",
       "    </tr>\n",
       "    <tr>\n",
       "      <th>27996</th>\n",
       "      <td>27997</td>\n",
       "      <td>2917765</td>\n",
       "      <td>47</td>\n",
       "      <td>9</td>\n",
       "      <td>single</td>\n",
       "      <td>rented</td>\n",
       "      <td>no</td>\n",
       "      <td>Technical writer</td>\n",
       "      <td>Ratlam</td>\n",
       "      <td>Madhya Pradesh</td>\n",
       "      <td>9</td>\n",
       "      <td>14</td>\n",
       "    </tr>\n",
       "    <tr>\n",
       "      <th>27997</th>\n",
       "      <td>27998</td>\n",
       "      <td>8082415</td>\n",
       "      <td>24</td>\n",
       "      <td>5</td>\n",
       "      <td>single</td>\n",
       "      <td>rented</td>\n",
       "      <td>no</td>\n",
       "      <td>Lawyer</td>\n",
       "      <td>Mira-Bhayandar</td>\n",
       "      <td>Maharashtra</td>\n",
       "      <td>4</td>\n",
       "      <td>13</td>\n",
       "    </tr>\n",
       "    <tr>\n",
       "      <th>27998</th>\n",
       "      <td>27999</td>\n",
       "      <td>9474180</td>\n",
       "      <td>51</td>\n",
       "      <td>13</td>\n",
       "      <td>single</td>\n",
       "      <td>rented</td>\n",
       "      <td>yes</td>\n",
       "      <td>Chartered Accountant</td>\n",
       "      <td>Bhilai</td>\n",
       "      <td>Chhattisgarh</td>\n",
       "      <td>13</td>\n",
       "      <td>14</td>\n",
       "    </tr>\n",
       "    <tr>\n",
       "      <th>27999</th>\n",
       "      <td>28000</td>\n",
       "      <td>9250350</td>\n",
       "      <td>42</td>\n",
       "      <td>9</td>\n",
       "      <td>single</td>\n",
       "      <td>rented</td>\n",
       "      <td>no</td>\n",
       "      <td>Chef</td>\n",
       "      <td>Navi Mumbai</td>\n",
       "      <td>Maharashtra</td>\n",
       "      <td>4</td>\n",
       "      <td>10</td>\n",
       "    </tr>\n",
       "  </tbody>\n",
       "</table>\n",
       "<p>28000 rows × 12 columns</p>\n",
       "</div>"
      ],
      "text/plain": [
       "          id   income  age  experience  married house_ownership car_ownership  \\\n",
       "0          1  7393090   59          19   single          rented            no   \n",
       "1          2  1215004   25           5   single          rented            no   \n",
       "2          3  8901342   50          12   single          rented            no   \n",
       "3          4  1944421   49           9  married          rented           yes   \n",
       "4          5    13429   25          18   single          rented           yes   \n",
       "...      ...      ...  ...         ...      ...             ...           ...   \n",
       "27995  27996  9955481   57          13   single          rented            no   \n",
       "27996  27997  2917765   47           9   single          rented            no   \n",
       "27997  27998  8082415   24           5   single          rented            no   \n",
       "27998  27999  9474180   51          13   single          rented           yes   \n",
       "27999  28000  9250350   42           9   single          rented            no   \n",
       "\n",
       "                 profession            city           state  \\\n",
       "0                 Geologist           Malda     West Bengal   \n",
       "1               Firefighter           Jalna     Maharashtra   \n",
       "2                    Lawyer           Thane     Maharashtra   \n",
       "3                   Analyst           Latur     Maharashtra   \n",
       "4                  Comedian      Berhampore     West Bengal   \n",
       "...                     ...             ...             ...   \n",
       "27995          Statistician       Eluru[25]  Andhra Pradesh   \n",
       "27996      Technical writer          Ratlam  Madhya Pradesh   \n",
       "27997                Lawyer  Mira-Bhayandar     Maharashtra   \n",
       "27998  Chartered Accountant          Bhilai    Chhattisgarh   \n",
       "27999                  Chef     Navi Mumbai     Maharashtra   \n",
       "\n",
       "       current_job_years  current_house_years  \n",
       "0                      4                   13  \n",
       "1                      5                   10  \n",
       "2                      9                   14  \n",
       "3                      3                   12  \n",
       "4                     13                   11  \n",
       "...                  ...                  ...  \n",
       "27995                  5                   10  \n",
       "27996                  9                   14  \n",
       "27997                  4                   13  \n",
       "27998                 13                   14  \n",
       "27999                  4                   10  \n",
       "\n",
       "[28000 rows x 12 columns]"
      ]
     },
     "execution_count": 105,
     "metadata": {},
     "output_type": "execute_result"
    }
   ],
   "source": [
    "test"
   ]
  },
  {
   "cell_type": "markdown",
   "id": "b82e1b10",
   "metadata": {},
   "source": [
    "## we had to understand data and its generation ,if the data leak , a lot of this things of data , and test and train how they are different"
   ]
  },
  {
   "cell_type": "markdown",
   "id": "be71e43c",
   "metadata": {},
   "source": [
    "## a lot of things to learn , mrunal work from start , if you wan to andrenaline to push in , crwate a deadline and stick to it"
   ]
  },
  {
   "cell_type": "code",
   "execution_count": null,
   "id": "df4e4842",
   "metadata": {},
   "outputs": [],
   "source": []
  }
 ],
 "metadata": {
  "kernelspec": {
   "display_name": "Python 3",
   "language": "python",
   "name": "python3"
  },
  "language_info": {
   "codemirror_mode": {
    "name": "ipython",
    "version": 3
   },
   "file_extension": ".py",
   "mimetype": "text/x-python",
   "name": "python",
   "nbconvert_exporter": "python",
   "pygments_lexer": "ipython3",
   "version": "3.8.8"
  }
 },
 "nbformat": 4,
 "nbformat_minor": 5
}
